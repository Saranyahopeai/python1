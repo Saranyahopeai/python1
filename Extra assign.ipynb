{
 "cells": [
  {
   "cell_type": "code",
   "execution_count": 1,
   "id": "225d8195",
   "metadata": {},
   "outputs": [
    {
     "name": "stdout",
     "output_type": "stream",
     "text": [
      "HOPE AI\n"
     ]
    }
   ],
   "source": [
    "print(\"HOPE AI\")"
   ]
  },
  {
   "cell_type": "code",
   "execution_count": 2,
   "id": "3262ca12",
   "metadata": {},
   "outputs": [
    {
     "name": "stdout",
     "output_type": "stream",
     "text": [
      "Enter your Name:Raj\n",
      "Raj\n",
      "Enter your Age:15\n",
      "15\n",
      "Enter your School name:Guru school\n",
      "Guru school\n",
      "Enter your degree:B.E CSE\n",
      "B.E CSE\n"
     ]
    }
   ],
   "source": [
    "name=(input(\"Enter your Name:\"))\n",
    "print(name)\n",
    "age=int(input(\"Enter your Age:\"))\n",
    "print(age)\n",
    "school=(input(\"Enter your School name:\"))\n",
    "print(school)\n",
    "degree=(input(\"Enter your degree:\"))\n",
    "print(degree)"
   ]
  },
  {
   "cell_type": "code",
   "execution_count": 3,
   "id": "55cf236a",
   "metadata": {},
   "outputs": [
    {
     "name": "stdout",
     "output_type": "stream",
     "text": [
      "Enter your institute name:Hopes AI\n",
      "Hopes AI\n"
     ]
    }
   ],
   "source": [
    "data=(input(\"Enter your institute name:\"))\n",
    "print(data)"
   ]
  },
  {
   "cell_type": "code",
   "execution_count": 4,
   "id": "46954598",
   "metadata": {},
   "outputs": [
    {
     "name": "stdout",
     "output_type": "stream",
     "text": [
      "a= 43\n",
      "b= 34\n",
      "Add= 77\n"
     ]
    }
   ],
   "source": [
    "num1=43\n",
    "print(\"a=\",num1)\n",
    "num2=34\n",
    "print(\"b=\",num2)\n",
    "add=num1+num2\n",
    "print(\"Add=\",add)\n",
    "\n"
   ]
  },
  {
   "cell_type": "code",
   "execution_count": 5,
   "id": "03196262",
   "metadata": {
    "scrolled": true
   },
   "outputs": [
    {
     "name": "stdout",
     "output_type": "stream",
     "text": [
      "a= 43\n",
      "b= 34\n",
      "SUB= 9\n"
     ]
    }
   ],
   "source": [
    "num1=43\n",
    "print(\"a=\",num1)\n",
    "num2=34\n",
    "print(\"b=\",num2)\n",
    "sub=num1-num2\n",
    "print(\"SUB=\",sub)\n",
    "\n"
   ]
  },
  {
   "cell_type": "code",
   "execution_count": 6,
   "id": "d774020c",
   "metadata": {},
   "outputs": [
    {
     "name": "stdout",
     "output_type": "stream",
     "text": [
      "a= 43\n",
      "b= 34\n",
      "MUL= 1462\n"
     ]
    }
   ],
   "source": [
    "n1=43\n",
    "print(\"a=\",n1)\n",
    "n2=34\n",
    "print(\"b=\",n2)\n",
    "mul=n1*n2\n",
    "print(\"MUL=\",mul)"
   ]
  }
 ],
 "metadata": {
  "kernelspec": {
   "display_name": "Python 3 (ipykernel)",
   "language": "python",
   "name": "python3"
  },
  "language_info": {
   "codemirror_mode": {
    "name": "ipython",
    "version": 3
   },
   "file_extension": ".py",
   "mimetype": "text/x-python",
   "name": "python",
   "nbconvert_exporter": "python",
   "pygments_lexer": "ipython3",
   "version": "3.11.5"
  }
 },
 "nbformat": 4,
 "nbformat_minor": 5
}
