{
 "cells": [
  {
   "cell_type": "code",
   "execution_count": 1,
   "id": "20541600",
   "metadata": {},
   "outputs": [
    {
     "name": "stdout",
     "output_type": "stream",
     "text": [
      "Welcome to assignment-1\n"
     ]
    }
   ],
   "source": [
    "print(\"Welcome to assignment-1\")\n"
   ]
  },
  {
   "cell_type": "code",
   "execution_count": 2,
   "id": "c987aa59",
   "metadata": {},
   "outputs": [
    {
     "name": "stdout",
     "output_type": "stream",
     "text": [
      "Num1=10\n",
      "Num2=30\n",
      "40\n"
     ]
    }
   ],
   "source": [
    "num1=int(input(\"Num1=\"))\n",
    "num2=int(input(\"Num2=\"))\n",
    "Add=int(num1+num2)\n",
    "print(Add)"
   ]
  },
  {
   "cell_type": "code",
   "execution_count": 3,
   "id": "ca9a82a8",
   "metadata": {},
   "outputs": [
    {
     "name": "stdout",
     "output_type": "stream",
     "text": [
      "enter the BMI index:35\n",
      "Overweight\n"
     ]
    }
   ],
   "source": [
    "BMI_index=float(input(\"enter the BMI index:\"))\n",
    "if(BMI_index<18.5):\n",
    "    print(\"Underweight\")\n",
    "elif(BMI_index<24.9):\n",
    "    print(\"Normal\")\n",
    "elif(BMI_index<34.9):\n",
    "    print(\"Obesity\")\n",
    "else:\n",
    "    print(\"Overweight\")\n",
    "        \n",
    "\n",
    "    \n",
    "  \n",
    "        "
   ]
  }
 ],
 "metadata": {
  "kernelspec": {
   "display_name": "Python 3 (ipykernel)",
   "language": "python",
   "name": "python3"
  },
  "language_info": {
   "codemirror_mode": {
    "name": "ipython",
    "version": 3
   },
   "file_extension": ".py",
   "mimetype": "text/x-python",
   "name": "python",
   "nbconvert_exporter": "python",
   "pygments_lexer": "ipython3",
   "version": "3.11.5"
  }
 },
 "nbformat": 4,
 "nbformat_minor": 5
}
