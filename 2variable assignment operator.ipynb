{
 "cells": [
  {
   "cell_type": "markdown",
   "id": "a0ea7a85",
   "metadata": {},
   "source": [
    "num1=10\n",
    "num2=20\n",
    "add=num1+num2"
   ]
  },
  {
   "cell_type": "code",
   "execution_count": 2,
   "id": "88d70aa7",
   "metadata": {},
   "outputs": [
    {
     "name": "stdout",
     "output_type": "stream",
     "text": [
      "40\n"
     ]
    }
   ],
   "source": [
    "num1=10\n",
    "num2=30\n",
    "add=num1+num2\n",
    "print(add)\n"
   ]
  },
  {
   "cell_type": "code",
   "execution_count": 3,
   "id": "69b0c779",
   "metadata": {},
   "outputs": [
    {
     "name": "stdout",
     "output_type": "stream",
     "text": [
      "The sum of two mumbers\n",
      "The number1: 10\n",
      "The numbe2: 50\n",
      "The sum of 2numbers: 60\n"
     ]
    }
   ],
   "source": [
    "print(\"The sum of two mumbers\")\n",
    "num1=10\n",
    "print(\"The number1:\",num1)\n",
    "num2=50\n",
    "print(\"The numbe2:\",num2)\n",
    "add=num1+num2\n",
    "print(\"The sum of 2numbers:\",add)\n"
   ]
  }
 ],
 "metadata": {
  "kernelspec": {
   "display_name": "Python 3 (ipykernel)",
   "language": "python",
   "name": "python3"
  },
  "language_info": {
   "codemirror_mode": {
    "name": "ipython",
    "version": 3
   },
   "file_extension": ".py",
   "mimetype": "text/x-python",
   "name": "python",
   "nbconvert_exporter": "python",
   "pygments_lexer": "ipython3",
   "version": "3.11.5"
  }
 },
 "nbformat": 4,
 "nbformat_minor": 5
}
